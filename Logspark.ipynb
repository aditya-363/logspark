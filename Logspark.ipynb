{
 "cells": [
  {
   "cell_type": "code",
   "execution_count": 4,
   "id": "0966bc4c",
   "metadata": {},
   "outputs": [],
   "source": [
    "from pyspark.sql import SparkSession  \n",
    "import pyspark.sql.functions as func\n",
    "from pyspark.sql.functions import *\n",
    "from pyspark.sql.types import StructType, StructField, StringType, IntegerType, TimestampType, BooleanType, DoubleType\n",
    "from dash import Dash, html, dash_table, dcc, callback, Output, Input\n",
    "import pandas as pd\n",
    "import plotly.express as px\n",
    "\n",
    "# Create a SparkSession\n",
    "spark = (SparkSession\n",
    "  .builder\n",
    "  .config(\"spark.submit.deployMode\", \"client\")\n",
    "  .appName(\"SparkSQLExampleApp\")\n",
    "  .getOrCreate())"
   ]
  },
  {
   "cell_type": "code",
   "execution_count": 5,
   "id": "fcd9ed4f",
   "metadata": {},
   "outputs": [],
   "source": [
    "datafile='log20170112min.csv'\n",
    "schema = StructType([\n",
    "    StructField(\"ip\", StringType(), False),\n",
    "    StructField(\"date\", StringType(), False),\n",
    "    StructField(\"time\", StringType(), False),\n",
    "    StructField(\"zone\", DoubleType(), True),\n",
    "    StructField(\"cik\", DoubleType(), False),\n",
    "    StructField(\"accession\", StringType(), False),\n",
    "    StructField(\"extention\", StringType(), True),\n",
    "    StructField(\"code\", DoubleType(), False),\n",
    "    StructField(\"size\", DoubleType(), False),\n",
    "    StructField(\"idx\", DoubleType(), False),\n",
    "    StructField(\"norefer\", DoubleType(), True),\n",
    "    StructField(\"noagent\", DoubleType(), True),\n",
    "    StructField(\"find\", DoubleType(), True),\n",
    "    StructField(\"crawler\", DoubleType(), True),\n",
    "    StructField(\"browser\", StringType(), True)\n",
    "])"
   ]
  },
  {
   "cell_type": "code",
   "execution_count": 6,
   "id": "c39a18ad",
   "metadata": {},
   "outputs": [],
   "source": [
    "df = (spark.read.format(\"csv\")\n",
    "  .schema(schema)\n",
    "  .option(\"header\", \"true\")\n",
    "  .load(datafile))"
   ]
  },
  {
   "cell_type": "code",
   "execution_count": 7,
   "id": "50c17c87",
   "metadata": {},
   "outputs": [],
   "source": [
    "df=df.withColumn(\"timestamp\", concat(df.date, lit(\" \"), df.time).cast(\"Timestamp\"))\n",
    "df=df.drop(\"date\").drop(\"time\").drop(\"zone\").drop(\"norefer\").drop(\"browser\")\n",
    "df=df.where(df.code>199.0).where(df.noagent<=1.0).dropna()"
   ]
  },
  {
   "cell_type": "code",
   "execution_count": 8,
   "id": "36a4054e",
   "metadata": {},
   "outputs": [
    {
     "data": {
      "text/plain": [
       "DataFrame[ip: string, cik: int, accession: string, extention: string, code: int, size: int, idx: boolean, noagent: boolean, find: int, crawler: boolean, timestamp: timestamp, webpage: string, filetype: string]"
      ]
     },
     "execution_count": 8,
     "metadata": {},
     "output_type": "execute_result"
    }
   ],
   "source": [
    "df=df.withColumn(\"cik\",df.cik.cast(\"Integer\")).withColumn(\"code\",df.code.cast(\"Integer\")).withColumn(\"size\",df.size.cast(\"Integer\")).withColumn(\"idx\",df.idx.cast(\"Boolean\")).withColumn(\"noagent\",df.noagent.cast(\"Boolean\")).withColumn(\"crawler\",df.crawler.cast(\"Boolean\")).withColumn(\"find\",df.find.cast(\"Integer\"))\n",
    "df=df.withColumn(\"webpage\", concat(df.cik,lit(\"/\"),df.accession,lit(\"/\"),df.extention))\n",
    "splitcol = split(df.extention,\"\\.\")\n",
    "df2 = df.withColumn(\"sc\",splitcol).withColumn(\"al\",size(splitcol))\n",
    "df = df2.where(df2.al==2).withColumn(\"filetype\", element_at(df2.sc,-1)).drop(\"sc\").drop(\"al\")\n",
    "valid_filetypes = [\"htm\",\"txt\",\"xml\",\"xsd\",\"css\",\"pdf\",\"html\",\"zip\",\"xls\",\"xlsx\",\"fil\",\"xm\",\"FIL\",\"XML\",\"png\",\"asp\",\"json\",\"xsl\",\"PDF\",\"khtml\"]\n",
    "df = df.filter(df.filetype.isin(valid_filetypes))\n",
    "df"
   ]
  },
  {
   "cell_type": "code",
   "execution_count": 9,
   "id": "3d9c5df6",
   "metadata": {},
   "outputs": [
    {
     "name": "stderr",
     "output_type": "stream",
     "text": [
      "                                                                                \r"
     ]
    },
    {
     "name": "stdout",
     "output_type": "stream",
     "text": [
      "+---------------+-------+--------------------+-----------------------+----+-------+-----+-------+----+-------+-------------------+---------------------------------------------------+--------+\n",
      "|ip             |cik    |accession           |extention              |code|size   |idx  |noagent|find|crawler|timestamp          |webpage                                            |filetype|\n",
      "+---------------+-------+--------------------+-----------------------+----+-------+-----+-------+----+-------+-------------------+---------------------------------------------------+--------+\n",
      "|107.22.225.dea |1403095|0001209191-17-003373|-index.htm             |200 |7483   |true |false  |10  |false  |2017-01-12 00:00:00|1403095/0001209191-17-003373/-index.htm            |htm     |\n",
      "|116.236.230.ccg|1025771|0001477932-17-000158|R1.htm                 |404 |0      |false|false  |10  |true   |2017-01-12 00:00:00|1025771/0001477932-17-000158/R1.htm                |htm     |\n",
      "|117.89.50.ihd  |926042 |0000926042-17-000008|-index.htm             |200 |2584   |true |false  |10  |false  |2017-01-12 00:00:00|926042/0000926042-17-000008/-index.htm             |htm     |\n",
      "|161.253.85.gch |1435387|0001144204-16-108217|R12.htm                |200 |4773   |false|false  |7   |false  |2017-01-12 00:00:00|1435387/0001144204-16-108217/R12.htm               |htm     |\n",
      "|217.174.255.dgd|7286   |0000764622-17-000002|.txt                   |200 |4714377|false|false  |7   |false  |2017-01-12 00:00:00|7286/0000764622-17-000002/.txt                     |txt     |\n",
      "|50.16.61.jgj   |702513 |0001437749-16-030067|-index.htm             |200 |2753   |true |false  |10  |false  |2017-01-12 00:00:00|702513/0001437749-16-030067/-index.htm             |htm     |\n",
      "|54.152.17.ccg  |1535610|0001535610-17-000051|-index.htm             |200 |2776   |true |false  |10  |false  |2017-01-12 00:00:00|1535610/0001535610-17-000051/-index.htm            |htm     |\n",
      "|54.212.94.jcd  |847552 |0001104659-16-111072|a16-4025_1ex99db10a.htm|200 |3448   |false|false  |10  |false  |2017-01-12 00:00:00|847552/0001104659-16-111072/a16-4025_1ex99db10a.htm|htm     |\n",
      "|64.212.61.haa  |1037116|0000912093-03-000017|.txt                   |301 |602    |false|false  |10  |false  |2017-01-12 00:00:00|1037116/0000912093-03-000017/.txt                  |txt     |\n",
      "|66.249.66.hgj  |1382112|0000000000-14-063554|filename1.pdf          |301 |613    |false|false  |10  |false  |2017-01-12 00:00:00|1382112/0000000000-14-063554/filename1.pdf         |pdf     |\n",
      "+---------------+-------+--------------------+-----------------------+----+-------+-----+-------+----+-------+-------------------+---------------------------------------------------+--------+\n",
      "only showing top 10 rows\n",
      "\n"
     ]
    }
   ],
   "source": [
    "df.show(10,False)"
   ]
  },
  {
   "cell_type": "code",
   "execution_count": 10,
   "id": "d585c056",
   "metadata": {},
   "outputs": [
    {
     "name": "stderr",
     "output_type": "stream",
     "text": [
      "                                                                                \r"
     ]
    },
    {
     "data": {
      "text/plain": [
       "763163"
      ]
     },
     "execution_count": 10,
     "metadata": {},
     "output_type": "execute_result"
    }
   ],
   "source": [
    "#Number of logs\n",
    "rec_cnt=df.count()\n",
    "rec_cnt"
   ]
  },
  {
   "cell_type": "code",
   "execution_count": 11,
   "id": "8370f531",
   "metadata": {},
   "outputs": [
    {
     "name": "stderr",
     "output_type": "stream",
     "text": [
      "                                                                                \r"
     ]
    },
    {
     "name": "stdout",
     "output_type": "stream",
     "text": [
      "+--------+------+\n",
      "|filetype| count|\n",
      "+--------+------+\n",
      "|     htm|346517|\n",
      "|     txt|292305|\n",
      "|     xml|100127|\n",
      "|     xsd|  8066|\n",
      "|     pdf|  6800|\n",
      "|    html|  5799|\n",
      "|     zip|  1028|\n",
      "|     xls|   986|\n",
      "|    xlsx|   954|\n",
      "|     fil|   259|\n",
      "+--------+------+\n",
      "only showing top 10 rows\n",
      "\n"
     ]
    },
    {
     "name": "stderr",
     "output_type": "stream",
     "text": [
      "                                                                                \r"
     ]
    }
   ],
   "source": [
    "# Most requested file types\n",
    "df_mrft = df.groupBy(\"filetype\").count().sort(\"count\",ascending=False)\n",
    "df_mrft.show(10)\n",
    "dfp_mrft = df_mrft.limit(10).toPandas()"
   ]
  },
  {
   "cell_type": "code",
   "execution_count": 12,
   "id": "d836468c",
   "metadata": {},
   "outputs": [
    {
     "name": "stderr",
     "output_type": "stream",
     "text": [
      "                                                                                \r"
     ]
    }
   ],
   "source": [
    "# Busiest time of day (requests)\n",
    "df_btod = df.groupBy(window(df[\"timestamp\"],\"5 minute\")).count()\n",
    "df_btod = df_btod.withColumn(\"sttime\", df_btod.window.start).drop(\"window\").select(\"sttime\",\"count\")\n",
    "df_btod = df_btod.sort(\"count\",ascending=False).withColumnRenamed(\"count\",\"requests\")\n",
    "dfp_btod = df_btod.limit(3).toPandas()"
   ]
  },
  {
   "cell_type": "code",
   "execution_count": 13,
   "id": "3527087d",
   "metadata": {},
   "outputs": [
    {
     "name": "stderr",
     "output_type": "stream",
     "text": [
      "                                                                                \r"
     ]
    }
   ],
   "source": [
    "# Busiest time of day (request size)\n",
    "df_btods = df.groupBy(window(df[\"timestamp\"],\"5 minute\")).agg({\"size\":\"sum\"})\n",
    "df_btods = df_btods.withColumn(\"sttime\", df_btods.window.start).drop(\"window\").withColumnRenamed(\"sum(size)\",\"size\").select(\"sttime\",\"size\")\n",
    "df_btods = df_btods.sort(\"size\",ascending=False)\n",
    "dfp_btods = df_btods.limit(3).toPandas()"
   ]
  },
  {
   "cell_type": "code",
   "execution_count": 14,
   "id": "488100b2",
   "metadata": {},
   "outputs": [
    {
     "name": "stderr",
     "output_type": "stream",
     "text": [
      "                                                                                \r"
     ]
    }
   ],
   "source": [
    "# Most accessed webpage\n",
    "df_maw = df.groupBy(\"webpage\").count()\n",
    "df_maw = df_maw.sort(\"count\",ascending=False).limit(10)\n",
    "dfp_maw = df_maw.limit(3).toPandas()"
   ]
  },
  {
   "cell_type": "code",
   "execution_count": 15,
   "id": "5c0cb559",
   "metadata": {},
   "outputs": [
    {
     "name": "stderr",
     "output_type": "stream",
     "text": [
      "                                                                                \r"
     ]
    }
   ],
   "source": [
    "# Largest document accessed\n",
    "df_lda = df.sort(\"size\",ascending=False).limit(10).select(\"webpage\",\"size\")\n",
    "dfp_lda = df_lda.limit(3).toPandas()"
   ]
  },
  {
   "cell_type": "code",
   "execution_count": 16,
   "id": "806551ca",
   "metadata": {},
   "outputs": [
    {
     "name": "stderr",
     "output_type": "stream",
     "text": [
      "                                                                                \r"
     ]
    }
   ],
   "source": [
    "# HTML response codes distribution\n",
    "df_hrcd = df.groupBy(\"code\").count()\n",
    "dfp_hrcd = df_hrcd.toPandas()"
   ]
  },
  {
   "cell_type": "code",
   "execution_count": 17,
   "id": "c3cd4c28",
   "metadata": {},
   "outputs": [
    {
     "name": "stderr",
     "output_type": "stream",
     "text": [
      "                                                                                \r"
     ]
    }
   ],
   "source": [
    "# HTML response codes distribution over time\n",
    "df_hrcdt = df.groupBy([window(df[\"timestamp\"],\"5 minute\"),\"code\"]).count()\n",
    "df_hrcdt = df_hrcdt.withColumn(\"sttime\", df_hrcdt.window.start).drop(\"window\").select(\"sttime\",\"code\",\"count\")\n",
    "dfp_hrcdt = df_hrcdt.toPandas()"
   ]
  },
  {
   "cell_type": "code",
   "execution_count": 18,
   "id": "3f06a720",
   "metadata": {},
   "outputs": [
    {
     "name": "stderr",
     "output_type": "stream",
     "text": [
      "                                                                                \r"
     ]
    }
   ],
   "source": [
    "# Requests histogram\n",
    "df_rh = df_btod.sort(\"sttime\")\n",
    "dfp_rh = df_rh.toPandas()"
   ]
  },
  {
   "cell_type": "code",
   "execution_count": 19,
   "id": "c304b019",
   "metadata": {},
   "outputs": [
    {
     "name": "stderr",
     "output_type": "stream",
     "text": [
      "                                                                                \r"
     ]
    }
   ],
   "source": [
    "# Request size histogram\n",
    "df_rsh = df_btods.sort(\"sttime\")\n",
    "dfp_rsh = df_rsh.toPandas()"
   ]
  },
  {
   "cell_type": "code",
   "execution_count": 20,
   "id": "634b0510",
   "metadata": {},
   "outputs": [
    {
     "name": "stderr",
     "output_type": "stream",
     "text": [
      "                                                                                \r"
     ]
    }
   ],
   "source": [
    "# Index page requests histogram\n",
    "df_irh = df.where(df.idx==True).groupBy(window(df[\"timestamp\"],\"5 minute\")).count()\n",
    "df_irh = df_irh.withColumn(\"sttime\", df_irh.window.start).drop(\"window\").select(\"sttime\",\"count\")\n",
    "df_irh = df_irh.sort(\"sttime\")\n",
    "dfp_irh = df_irh.toPandas()"
   ]
  },
  {
   "cell_type": "code",
   "execution_count": 21,
   "id": "015bc80c",
   "metadata": {},
   "outputs": [
    {
     "name": "stderr",
     "output_type": "stream",
     "text": [
      "                                                                                \r"
     ]
    }
   ],
   "source": [
    "# Crawler request histogram\n",
    "df_crh = df.where(df.crawler==True).groupBy(window(df[\"timestamp\"],\"5 minute\")).count()\n",
    "df_crh = df_crh.withColumn(\"sttime\", df_crh.window.start).drop(\"window\").select(\"sttime\",\"count\")\n",
    "df_crh = df_crh.sort(\"sttime\")\n",
    "dfp_crh = df_crh.toPandas()"
   ]
  },
  {
   "cell_type": "code",
   "execution_count": 22,
   "id": "f0c32df9",
   "metadata": {},
   "outputs": [
    {
     "name": "stderr",
     "output_type": "stream",
     "text": [
      "                                                                                \r"
     ]
    }
   ],
   "source": [
    "# Crawler request size in comparison to others\n",
    "df_crsc = df.groupBy(\"crawler\").agg({\"size\":\"sum\"}).withColumnRenamed(\"sum(size)\",\"size\")\n",
    "dfp_crsc = df_crsc.toPandas()"
   ]
  },
  {
   "cell_type": "code",
   "execution_count": 35,
   "id": "5c6d8bdc",
   "metadata": {},
   "outputs": [
    {
     "name": "stderr",
     "output_type": "stream",
     "text": [
      "                                                                                \r"
     ]
    }
   ],
   "source": [
    "# Requests by source\n",
    "df_rs = df.groupBy(\"find\").agg({\"find\":\"count\"}).withColumnRenamed(\"count(find)\",\"count\")\n",
    "df_rs = df_rs.sort(\"find\")\n",
    "source_map = {1:'get Company',2:'get Current',3:'Find Companies',4:'Search EDGAR',5:'EDGARFS Client',6:'Current',7:'Archive',8:'Viewer',9:'Index',10:'Other'}\n",
    "dfp_rs = df_rs.toPandas()\n",
    "dfp_rs[\"find\"] = dfp_rs[\"find\"].map(source_map)"
   ]
  },
  {
   "cell_type": "code",
   "execution_count": 32,
   "id": "05f09940",
   "metadata": {},
   "outputs": [
    {
     "name": "stderr",
     "output_type": "stream",
     "text": [
      "                                                                                \r"
     ]
    }
   ],
   "source": [
    "# Sources by time\n",
    "df_st = df.groupBy([window(df[\"timestamp\"],\"5 minute\"),\"find\"]).count()\n",
    "df_st = df_st.withColumn(\"sttime\", df_st.window.start).drop(\"window\").select(\"sttime\",\"find\",\"count\").sort([\"sttime\",\"find\",\"count\"])\n",
    "dfp_st = df_st.toPandas()\n",
    "dfp_st[\"find\"] = dfp_st[\"find\"].map(source_map)"
   ]
  },
  {
   "cell_type": "code",
   "execution_count": 25,
   "id": "5510a7bf",
   "metadata": {},
   "outputs": [
    {
     "name": "stderr",
     "output_type": "stream",
     "text": [
      "                                                                                \r"
     ]
    }
   ],
   "source": [
    "# Most Requests by IP Address\n",
    "df_rip = df.groupBy(\"ip\").count()\n",
    "df_rip = df_rip.sort(\"count\",ascending=False).limit(10)\n",
    "dfp_rip = df_rip.limit(3).toPandas()"
   ]
  },
  {
   "cell_type": "code",
   "execution_count": 26,
   "id": "2af892eb",
   "metadata": {},
   "outputs": [
    {
     "name": "stderr",
     "output_type": "stream",
     "text": [
      "                                                                                \r"
     ]
    }
   ],
   "source": [
    "# Largest requests by IP address\n",
    "df_lrip = df.groupBy(\"ip\").agg({\"size\":\"sum\"}).withColumnRenamed(\"sum(size)\",\"size\")\n",
    "df_lrip = df_lrip.sort(\"size\",ascending=False)\n",
    "dfp_lrip = df_lrip.limit(3).toPandas()"
   ]
  },
  {
   "cell_type": "code",
   "execution_count": 27,
   "id": "72d72649",
   "metadata": {},
   "outputs": [
    {
     "name": "stderr",
     "output_type": "stream",
     "text": [
      "                                                                                \r"
     ]
    }
   ],
   "source": [
    "# Most popular CIKs\n",
    "df_mpcik = df.groupBy(\"cik\").count()\n",
    "df_mpcik = df_mpcik.sort(\"count\",ascending=False)\n",
    "dfp_mpcik = df_mpcik.limit(3).toPandas()"
   ]
  },
  {
   "cell_type": "code",
   "execution_count": 28,
   "id": "48e94b08",
   "metadata": {},
   "outputs": [
    {
     "name": "stderr",
     "output_type": "stream",
     "text": [
      "                                                                                \r"
     ]
    }
   ],
   "source": [
    "# Largest CIK requests\n",
    "df_lcik = df.groupBy(\"cik\").agg({\"size\":\"sum\"}).withColumnRenamed(\"sum(size)\",\"size\")\n",
    "df_lcik = df_lcik.sort(\"size\",ascending=False)\n",
    "dfp_lcik = df_lcik.limit(3).toPandas()"
   ]
  },
  {
   "cell_type": "code",
   "execution_count": 29,
   "id": "86d7f880",
   "metadata": {},
   "outputs": [],
   "source": [
    "dl = {\"Attribute\": [\"IP Address\",\"\",\"\",\"Central Index Key (CIK)\",\"\",\"\",\"Webpage\",\"\",\"\",\"Time of day\",\"\",\"\",],\n",
    "      \"\":[1,2,3,1,2,3,1,2,3,1,2,3],\n",
    "      \"Most Requests\":[dfp_rip[\"ip\"][0]+\" - \"+str(dfp_rip[\"count\"][0]),dfp_rip[\"ip\"][1]+\" - \"+str(dfp_rip[\"count\"][1]),dfp_rip[\"ip\"][2]+\" - \"+str(dfp_rip[\"count\"][2]),\n",
    "                       str(dfp_mpcik[\"cik\"][0])+\" - \"+str(dfp_mpcik[\"count\"][0]),str(dfp_mpcik[\"cik\"][1])+\" - \"+str(dfp_mpcik[\"count\"][1]),str(dfp_mpcik[\"cik\"][2])+\" - \"+str(dfp_mpcik[\"count\"][2]),\n",
    "                       dfp_maw[\"webpage\"][0]+\" - \"+str(dfp_maw[\"count\"][0]),dfp_maw[\"webpage\"][1]+\" - \"+str(dfp_maw[\"count\"][1]),dfp_maw[\"webpage\"][2]+\" - \"+str(dfp_maw[\"count\"][2]),\n",
    "                       str(dfp_btod[\"sttime\"][0])+\" - \"+str(dfp_btod[\"requests\"][0]),str(dfp_btod[\"sttime\"][1])+\" - \"+str(dfp_btod[\"requests\"][1]),str(dfp_btod[\"sttime\"][2])+\" - \"+str(dfp_btod[\"requests\"][2])],\n",
    "      \"Largest Requests\":[dfp_lrip[\"ip\"][0]+\" - \"+str(dfp_lrip[\"size\"][0]),dfp_lrip[\"ip\"][1]+\" - \"+str(dfp_lrip[\"size\"][1]),dfp_lrip[\"ip\"][2]+\" - \"+str(dfp_lrip[\"size\"][2]),\n",
    "                           str(dfp_lcik[\"cik\"][0])+\" - \"+str(dfp_lcik[\"size\"][0]),str(dfp_lcik[\"cik\"][1])+\" - \"+str(dfp_lcik[\"size\"][1]),str(dfp_lcik[\"cik\"][2])+\" - \"+str(dfp_lcik[\"size\"][2]),\n",
    "                           dfp_lda[\"webpage\"][0]+\" - \"+str(dfp_lda[\"size\"][0]),dfp_lda[\"webpage\"][1]+\" - \"+str(dfp_lda[\"size\"][1]),dfp_lda[\"webpage\"][2]+\" - \"+str(dfp_lda[\"size\"][2]),\n",
    "                           str(dfp_btods[\"sttime\"][0])+\" - \"+str(dfp_btods[\"size\"][0]),str(dfp_btods[\"sttime\"][1])+\" - \"+str(dfp_btods[\"size\"][1]),str(dfp_btods[\"sttime\"][2])+\" - \"+str(dfp_btods[\"size\"][2])]}\n",
    "dfp_daily = pd.DataFrame(dl)\n"
   ]
  },
  {
   "cell_type": "code",
   "execution_count": 33,
   "id": "fca79edb",
   "metadata": {},
   "outputs": [],
   "source": [
    "# Create dashboard\n",
    "# Initialize the app\n",
    "app = Dash()\n",
    "\n",
    "# App layout\n",
    "#app.layout = [\n",
    "#    html.Div(children='My First App with Data'),\n",
    "#    dash_table.DataTable(data=df.to_dict('records'), page_size=10),\n",
    "#    dcc.Graph(figure=px.pie(df,\"ip\",\"size\"))\n",
    "#]\n",
    "app.layout = html.Div([\n",
    "    dcc.Tabs(id=\"tabs\", value='daily', children=[\n",
    "        dcc.Tab(label='Dashboard', value='daily')\n",
    "    ]),\n",
    "    html.Div(id='tab-content')\n",
    "])\n",
    "\n",
    "@app.callback(Output('tab-content', 'children'),\n",
    "              Input('tabs', 'value'))\n",
    "def render_content(tab):\n",
    "        return html.Div([\n",
    "            html.H2('Server log analyses'),\n",
    "            html.H3('Number of records: '+str(rec_cnt)),\n",
    "            html.Div([\n",
    "                dcc.Graph(figure=px.pie(dfp_mrft, names='filetype', values='count', title='File type requested'))\n",
    "            ], style={'width': '48%', 'display': 'inline-block', 'border':'1px solid black', 'margin': '2px'}),\n",
    "            html.Div([\n",
    "                dcc.Graph(figure=px.pie(dfp_hrcd, names='code', values='count', title='HTML Response code'))\n",
    "            ], style={'width': '48%', 'display': 'inline-block', 'border':'1px solid black', 'margin': '2px'}),\n",
    "            html.Div([\n",
    "                dcc.Graph(figure=px.pie(dfp_crsc, names='crawler', values='size', title='Crawler traffic share'))\n",
    "            ], style={'width': '48%', 'display': 'inline-block', 'border':'1px solid black', 'margin': '2px'}),\n",
    "            html.Div([\n",
    "                dcc.Graph(figure=px.pie(dfp_rs, names='find', values='count', title='Request sources'))\n",
    "            ], style={'width': '48%', 'display': 'inline-block', 'border':'1px solid black', 'margin': '2px'}),\n",
    "            html.Div([\n",
    "                dcc.Graph(figure=px.bar(dfp_rh, x='sttime', y='requests', title='Requests by time of day'))\n",
    "            ], style={'width': '48%', 'display': 'inline-block', 'border':'1px solid black', 'margin': '2px'}),\n",
    "            html.Div([\n",
    "                dcc.Graph(figure=px.bar(dfp_rsh, x='sttime', y='size', title='Request size by time of day'))\n",
    "            ], style={'width': '48%', 'display': 'inline-block', 'border':'1px solid black', 'margin': '2px'}),\n",
    "            html.Div([\n",
    "                dcc.Graph(figure=px.bar(dfp_irh, x='sttime', y='count',  title='Index page requests by time of day'))\n",
    "            ], style={'width': '48%', 'display': 'inline-block', 'border':'1px solid black', 'margin': '2px'}),\n",
    "            html.Div([\n",
    "                dcc.Graph(figure=px.bar(dfp_crh, x='sttime', y='count', title='Crawler requests by time of day'))\n",
    "            ], style={'width': '48%', 'display': 'inline-block', 'border':'1px solid black', 'margin': '2px'}),\n",
    "            html.Div([\n",
    "                dcc.Graph(figure=px.line(dfp_st, x='sttime', y='count', color='find', title='Request source by time of day'))\n",
    "            ], style={'width': '48%', 'display': 'inline-block','border':'1px solid black', 'margin': '2px'}),\n",
    "            html.Div([\n",
    "                dcc.Graph(figure=px.bar(dfp_hrcdt, x='sttime', y='count', color='code', title='HTML Response codes by time of day'))\n",
    "            ], style={'width': '48%', 'display': 'inline-block', 'border':'1px solid black', 'margin': '2px'}),\n",
    "            html.Div([\n",
    "                dash_table.DataTable(\n",
    "                    data=dfp_daily.to_dict('records'), page_size=14\n",
    "                )\n",
    "            ])\n",
    "        ])\n",
    "\n",
    "\n",
    "#app.run(jupyter_mode=\"external\", port=8050)"
   ]
  },
  {
   "cell_type": "code",
   "execution_count": 36,
   "id": "9c8cab3d",
   "metadata": {},
   "outputs": [
    {
     "name": "stdout",
     "output_type": "stream",
     "text": [
      "Dash app running on http://127.0.0.1:8050/\n"
     ]
    }
   ],
   "source": [
    "app.run(jupyter_mode=\"external\", port=8050)"
   ]
  },
  {
   "cell_type": "code",
   "execution_count": null,
   "id": "40556ca6",
   "metadata": {},
   "outputs": [],
   "source": []
  }
 ],
 "metadata": {
  "kernelspec": {
   "display_name": "Python 3 (ipykernel)",
   "language": "python",
   "name": "python3"
  },
  "language_info": {
   "codemirror_mode": {
    "name": "ipython",
    "version": 3
   },
   "file_extension": ".py",
   "mimetype": "text/x-python",
   "name": "python",
   "nbconvert_exporter": "python",
   "pygments_lexer": "ipython3",
   "version": "3.11.8"
  }
 },
 "nbformat": 4,
 "nbformat_minor": 5
}
