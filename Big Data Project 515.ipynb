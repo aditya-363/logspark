{
 "cells": [
  {
   "cell_type": "code",
   "execution_count": 1,
   "id": "0966bc4c",
   "metadata": {},
   "outputs": [
    {
     "name": "stderr",
     "output_type": "stream",
     "text": [
      "Setting default log level to \"WARN\".\n",
      "To adjust logging level use sc.setLogLevel(newLevel). For SparkR, use setLogLevel(newLevel).\n",
      "24/12/11 09:17:00 INFO SparkEnv: Registering MapOutputTracker\n",
      "24/12/11 09:17:00 INFO SparkEnv: Registering BlockManagerMaster\n",
      "24/12/11 09:17:00 INFO SparkEnv: Registering BlockManagerMasterHeartbeat\n",
      "24/12/11 09:17:00 INFO SparkEnv: Registering OutputCommitCoordinator\n"
     ]
    }
   ],
   "source": [
    "from pyspark.sql import SparkSession  \n",
    "import pyspark.sql.functions as func\n",
    "from pyspark.sql.functions import *\n",
    "from pyspark.sql.types import StructType, StructField, StringType, IntegerType, TimestampType, BooleanType, DoubleType\n",
    "from dash import Dash, html, dash_table, dcc, callback, Output, Input\n",
    "import pandas as pd\n",
    "import plotly.express as px\n",
    "\n",
    "# Create a SparkSession\n",
    "spark = (SparkSession\n",
    "  .builder\n",
    "  .config(\"spark.submit.deployMode\", \"client\")\n",
    "  .appName(\"SparkSQLExampleApp\")\n",
    "  .getOrCreate())"
   ]
  },
  {
   "cell_type": "code",
   "execution_count": 2,
   "id": "fcd9ed4f",
   "metadata": {},
   "outputs": [],
   "source": [
    "datafile='log20170112.csv'\n",
    "schema = StructType([\n",
    "    StructField(\"ip\", StringType(), False),\n",
    "    StructField(\"date\", StringType(), False),\n",
    "    StructField(\"time\", StringType(), False),\n",
    "    StructField(\"zone\", DoubleType(), True),\n",
    "    StructField(\"cik\", DoubleType(), False),\n",
    "    StructField(\"accession\", StringType(), False),\n",
    "    StructField(\"extention\", StringType(), True),\n",
    "    StructField(\"code\", DoubleType(), False),\n",
    "    StructField(\"size\", DoubleType(), False),\n",
    "    StructField(\"idx\", DoubleType(), False),\n",
    "    StructField(\"norefer\", DoubleType(), True),\n",
    "    StructField(\"noagent\", DoubleType(), True),\n",
    "    StructField(\"find\", DoubleType(), True),\n",
    "    StructField(\"crawler\", DoubleType(), True),\n",
    "    StructField(\"browser\", StringType(), True)\n",
    "])"
   ]
  },
  {
   "cell_type": "code",
   "execution_count": 3,
   "id": "c39a18ad",
   "metadata": {},
   "outputs": [],
   "source": [
    "df = (spark.read.format(\"csv\")\n",
    "  .schema(schema)\n",
    "  .option(\"header\", \"true\")\n",
    "  .load(datafile))"
   ]
  },
  {
   "cell_type": "code",
   "execution_count": 4,
   "id": "50c17c87",
   "metadata": {},
   "outputs": [],
   "source": [
    "df=df.withColumn(\"timestamp\", concat(df.date, lit(\" \"), df.time).cast(\"Timestamp\"))\n",
    "df=df.drop(\"date\").drop(\"time\").drop(\"zone\").drop(\"norefer\").drop(\"browser\")\n",
    "df=df.where(df.code>199.0).where(df.noagent<=1.0).dropna()"
   ]
  },
  {
   "cell_type": "code",
   "execution_count": 5,
   "id": "36a4054e",
   "metadata": {},
   "outputs": [
    {
     "data": {
      "text/plain": [
       "DataFrame[ip: string, cik: int, accession: string, extention: string, code: int, size: int, idx: boolean, noagent: boolean, find: int, crawler: boolean, timestamp: timestamp, webpage: string, filetype: string]"
      ]
     },
     "execution_count": 5,
     "metadata": {},
     "output_type": "execute_result"
    }
   ],
   "source": [
    "df=df.withColumn(\"cik\",df.cik.cast(\"Integer\")).withColumn(\"code\",df.code.cast(\"Integer\")).withColumn(\"size\",df.size.cast(\"Integer\")).withColumn(\"idx\",df.idx.cast(\"Boolean\")).withColumn(\"noagent\",df.noagent.cast(\"Boolean\")).withColumn(\"crawler\",df.crawler.cast(\"Boolean\")).withColumn(\"find\",df.find.cast(\"Integer\"))\n",
    "df=df.withColumn(\"webpage\", concat(df.cik,lit(\"/\"),df.accession,lit(\"/\"),df.extention))\n",
    "splitcol = split(df.extention,\"\\.\")\n",
    "df2 = df.withColumn(\"sc\",splitcol).withColumn(\"al\",size(splitcol))\n",
    "df = df2.where(df2.al==2).withColumn(\"filetype\", element_at(df2.sc,-1)).drop(\"sc\").drop(\"al\")\n",
    "valid_filetypes = [\"htm\",\"txt\",\"xml\",\"xsd\",\"css\",\"pdf\",\"html\",\"zip\",\"xls\",\"xlsx\",\"fil\",\"xm\",\"FIL\",\"XML\",\"png\",\"asp\",\"json\",\"xsl\",\"PDF\",\"khtml\"]\n",
    "df = df.filter(df.filetype.isin(valid_filetypes))\n",
    "df"
   ]
  },
  {
   "cell_type": "code",
   "execution_count": 6,
   "id": "3d9c5df6",
   "metadata": {},
   "outputs": [
    {
     "name": "stderr",
     "output_type": "stream",
     "text": [
      "                                                                                \r"
     ]
    },
    {
     "name": "stdout",
     "output_type": "stream",
     "text": [
      "+--------------+-------+--------------------+----------+----+-----+-----+-------+----+-------+-------------------+---------------------------------------+--------+\n",
      "|ip            |cik    |accession           |extention |code|size |idx  |noagent|find|crawler|timestamp          |webpage                                |filetype|\n",
      "+--------------+-------+--------------------+----------+----+-----+-----+-------+----+-------+-------------------+---------------------------------------+--------+\n",
      "|107.22.225.dea|1403095|0001209191-17-003373|-index.htm|200 |7483 |true |false  |10  |false  |2017-01-12 00:00:00|1403095/0001209191-17-003373/-index.htm|htm     |\n",
      "|108.91.91.hbc |1694171|0001209191-17-003442|.txt      |301 |630  |false|false  |10  |false  |2017-01-12 00:00:00|1694171/0001209191-17-003442/.txt      |txt     |\n",
      "|108.91.91.hbc |1134620|0001082038-17-000002|.txt      |200 |10022|false|false  |10  |false  |2017-01-12 00:00:00|1134620/0001082038-17-000002/.txt      |txt     |\n",
      "|108.91.91.hbc |1134642|0001082038-17-000003|.txt      |301 |627  |false|false  |10  |false  |2017-01-12 00:00:00|1134642/0001082038-17-000003/.txt      |txt     |\n",
      "|108.91.91.hbc |1604753|0001082038-17-000004|.txt      |200 |10029|false|false  |10  |false  |2017-01-12 00:00:00|1604753/0001082038-17-000004/.txt      |txt     |\n",
      "|108.91.91.hbc |1453077|0001182489-17-000033|.txt      |301 |627  |false|false  |10  |false  |2017-01-12 00:00:00|1453077/0001182489-17-000033/.txt      |txt     |\n",
      "|108.91.91.hbc |1604753|0001082038-17-000004|.txt      |301 |626  |false|false  |10  |false  |2017-01-12 00:00:00|1604753/0001082038-17-000004/.txt      |txt     |\n",
      "|108.91.91.hbc |1293970|0001354488-17-000061|.txt      |301 |628  |false|false  |10  |false  |2017-01-12 00:00:00|1293970/0001354488-17-000061/.txt      |txt     |\n",
      "|108.91.91.hbc |1239948|0001082038-17-000001|.txt      |200 |10074|false|false  |10  |false  |2017-01-12 00:00:00|1239948/0001082038-17-000001/.txt      |txt     |\n",
      "|108.91.91.hbc |1659367|0001659367-17-000001|.txt      |200 |8626 |false|false  |10  |false  |2017-01-12 00:00:00|1659367/0001659367-17-000001/.txt      |txt     |\n",
      "+--------------+-------+--------------------+----------+----+-----+-----+-------+----+-------+-------------------+---------------------------------------+--------+\n",
      "only showing top 10 rows\n",
      "\n"
     ]
    }
   ],
   "source": [
    "df.show(10,False)"
   ]
  },
  {
   "cell_type": "code",
   "execution_count": 7,
   "id": "d585c056",
   "metadata": {},
   "outputs": [
    {
     "name": "stderr",
     "output_type": "stream",
     "text": [
      "                                                                                \r"
     ]
    },
    {
     "data": {
      "text/plain": [
       "15262098"
      ]
     },
     "execution_count": 7,
     "metadata": {},
     "output_type": "execute_result"
    }
   ],
   "source": [
    "#Number of logs\n",
    "df.count()"
   ]
  },
  {
   "cell_type": "code",
   "execution_count": 8,
   "id": "8370f531",
   "metadata": {},
   "outputs": [
    {
     "name": "stderr",
     "output_type": "stream",
     "text": [
      "                                                                                \r"
     ]
    },
    {
     "name": "stdout",
     "output_type": "stream",
     "text": [
      "+--------+-------+\n",
      "|filetype|  count|\n",
      "+--------+-------+\n",
      "|     htm|6928628|\n",
      "|     txt|5845582|\n",
      "|     xml|2001638|\n",
      "|     xsd| 159120|\n",
      "|     pdf| 136998|\n",
      "|    html| 118720|\n",
      "|     zip|  21098|\n",
      "|     xls|  19891|\n",
      "|    xlsx|  18996|\n",
      "|     fil|   4984|\n",
      "+--------+-------+\n",
      "only showing top 10 rows\n",
      "\n"
     ]
    },
    {
     "name": "stderr",
     "output_type": "stream",
     "text": [
      "                                                                                \r"
     ]
    }
   ],
   "source": [
    "# Most requested file types\n",
    "df_mrft = df.groupBy(\"filetype\").count().sort(\"count\",ascending=False)\n",
    "df_mrft.show(10)\n",
    "dfp_mrft = df_mrft.limit(10).toPandas()"
   ]
  },
  {
   "cell_type": "code",
   "execution_count": 9,
   "id": "d836468c",
   "metadata": {},
   "outputs": [
    {
     "name": "stderr",
     "output_type": "stream",
     "text": [
      "[Stage 10:====================================================>   (13 + 1) / 14]\r"
     ]
    },
    {
     "name": "stdout",
     "output_type": "stream",
     "text": [
      "+-------------------+--------+\n",
      "|             sttime|requests|\n",
      "+-------------------+--------+\n",
      "|2017-01-12 05:35:00|  154099|\n",
      "|2017-01-12 05:40:00|  151292|\n",
      "|2017-01-12 02:00:00|  147459|\n",
      "|2017-01-12 01:50:00|  143385|\n",
      "|2017-01-12 01:45:00|  142233|\n",
      "|2017-01-12 02:05:00|  140348|\n",
      "|2017-01-12 02:10:00|  138621|\n",
      "|2017-01-12 02:15:00|  134946|\n",
      "|2017-01-12 01:55:00|  133494|\n",
      "|2017-01-12 05:30:00|  131333|\n",
      "+-------------------+--------+\n",
      "only showing top 10 rows\n",
      "\n"
     ]
    },
    {
     "name": "stderr",
     "output_type": "stream",
     "text": [
      "\r",
      "                                                                                \r"
     ]
    }
   ],
   "source": [
    "# Busiest time of day (requests)\n",
    "df_btod = df.groupBy(window(df[\"timestamp\"],\"5 minute\")).count()\n",
    "df_btod = df_btod.withColumn(\"sttime\", df_btod.window.start).drop(\"window\").select(\"sttime\",\"count\")\n",
    "df_btod = df_btod.sort(\"count\",ascending=False).withColumnRenamed(\"count\",\"requests\")\n",
    "dfp_btod = df_btod.limit(3).toPandas()"
   ]
  },
  {
   "cell_type": "code",
   "execution_count": 10,
   "id": "3527087d",
   "metadata": {},
   "outputs": [
    {
     "name": "stderr",
     "output_type": "stream",
     "text": [
      "[Stage 13:====================================================>   (13 + 1) / 14]\r"
     ]
    },
    {
     "name": "stdout",
     "output_type": "stream",
     "text": [
      "+-------------------+-----------+\n",
      "|             sttime|       size|\n",
      "+-------------------+-----------+\n",
      "|2017-01-12 15:15:00|20472062503|\n",
      "|2017-01-12 13:40:00|16627818367|\n",
      "|2017-01-12 14:10:00|16528630962|\n",
      "|2017-01-12 14:05:00|15856610105|\n",
      "|2017-01-12 13:35:00|15772565588|\n",
      "|2017-01-12 15:00:00|15336715121|\n",
      "|2017-01-12 14:15:00|15048801224|\n",
      "|2017-01-12 13:45:00|14948809685|\n",
      "|2017-01-12 13:20:00|14863804923|\n",
      "|2017-01-12 15:10:00|14709649782|\n",
      "+-------------------+-----------+\n",
      "only showing top 10 rows\n",
      "\n"
     ]
    },
    {
     "name": "stderr",
     "output_type": "stream",
     "text": [
      "\r",
      "                                                                                \r"
     ]
    }
   ],
   "source": [
    "# Busiest time of day (request size)\n",
    "df_btods = df.groupBy(window(df[\"timestamp\"],\"5 minute\")).agg({\"size\":\"sum\"})\n",
    "df_btods = df_btods.withColumn(\"sttime\", df_btods.window.start).drop(\"window\").withColumnRenamed(\"sum(size)\",\"size\").select(\"sttime\",\"size\")\n",
    "df_btods = df_btods.sort(\"size\",ascending=False)\n",
    "dfp_btods = df_btods.limit(3).toPandas()"
   ]
  },
  {
   "cell_type": "code",
   "execution_count": 11,
   "id": "488100b2",
   "metadata": {},
   "outputs": [
    {
     "name": "stderr",
     "output_type": "stream",
     "text": [
      "[Stage 18:======================================>                   (2 + 1) / 3]\r"
     ]
    },
    {
     "name": "stdout",
     "output_type": "stream",
     "text": [
      "+--------------------+-----+\n",
      "|             webpage|count|\n",
      "+--------------------+-----+\n",
      "|1429496/000000000...|99251|\n",
      "|1565979/000000000...|98154|\n",
      "|1429496/000000000...|97551|\n",
      "|1584509/000158450...|35764|\n",
      "|1584509/000158450...|35668|\n",
      "|1584509/000158450...|35666|\n",
      "|1584509/000158450...|35542|\n",
      "|1584509/000158450...|35515|\n",
      "|1584509/000158450...|35224|\n",
      "|799288/0000799288...|19221|\n",
      "+--------------------+-----+\n",
      "\n"
     ]
    },
    {
     "name": "stderr",
     "output_type": "stream",
     "text": [
      "\r",
      "                                                                                \r"
     ]
    }
   ],
   "source": [
    "# Most accessed webpage\n",
    "df_maw = df.groupBy(\"webpage\").count()\n",
    "df_maw = df_maw.sort(\"count\",ascending=False).limit(10)\n",
    "dfp_maw = df_maw.limit(3).toPandas()"
   ]
  },
  {
   "cell_type": "code",
   "execution_count": 12,
   "id": "ff1835c1",
   "metadata": {},
   "outputs": [
    {
     "name": "stderr",
     "output_type": "stream",
     "text": [
      "[Stage 21:>                                                         (0 + 2) / 2]\r"
     ]
    },
    {
     "name": "stdout",
     "output_type": "stream",
     "text": [
      "+--------------------+-----+\n",
      "|             webpage|count|\n",
      "+--------------------+-----+\n",
      "|1429496/000000000...|99251|\n",
      "|1429496/000000000...|97551|\n",
      "|1584509/000158450...|35764|\n",
      "|1584509/000158450...|35668|\n",
      "|1584509/000158450...|35666|\n",
      "|1584509/000158450...|35542|\n",
      "|1584509/000158450...|35515|\n",
      "|1584509/000158450...|35224|\n",
      "|799288/0000799288...|19221|\n",
      "|799288/0000799288...|19215|\n",
      "+--------------------+-----+\n",
      "\n"
     ]
    },
    {
     "name": "stderr",
     "output_type": "stream",
     "text": [
      "\r",
      "[Stage 21:=============================>                            (1 + 1) / 2]\r",
      "\r",
      "                                                                                \r"
     ]
    }
   ],
   "source": [
    "# Most accessed non HTML asset\n",
    "#find unique filetypes\n",
    "df_manha = df.where(df.filetype!=\"htm\").where(df.filetype!=\"html\").groupBy(\"webpage\").count()\n",
    "df_manha = df_manha.sort(\"count\",ascending=False).limit(10)\n",
    "df_manha.show(10)"
   ]
  },
  {
   "cell_type": "code",
   "execution_count": 13,
   "id": "5c0cb559",
   "metadata": {},
   "outputs": [
    {
     "name": "stderr",
     "output_type": "stream",
     "text": [
      "[Stage 22:================================================>       (12 + 2) / 14]\r"
     ]
    },
    {
     "name": "stdout",
     "output_type": "stream",
     "text": [
      "+--------------------+---------+\n",
      "|             webpage|     size|\n",
      "+--------------------+---------+\n",
      "|4904/0000004904-1...|434945787|\n",
      "|6879/0000004904-1...|434914040|\n",
      "|4904/0000004904-1...|434913884|\n",
      "|1427437/000006598...|434412985|\n",
      "|1427437/000006598...|422721117|\n",
      "|4904/0000004904-1...|274817311|\n",
      "|6879/0000004904-1...|274814011|\n",
      "|4904/0000004904-1...|274813951|\n",
      "|1528059/000150738...|270242348|\n",
      "|1507385/000150738...|270222536|\n",
      "+--------------------+---------+\n",
      "\n"
     ]
    },
    {
     "name": "stderr",
     "output_type": "stream",
     "text": [
      "\r",
      "                                                                                \r"
     ]
    }
   ],
   "source": [
    "# Largest document accessed\n",
    "df_lda = df.sort(\"size\",ascending=False).limit(10).select(\"webpage\",\"size\")\n",
    "dfp_lda = df_lda.limit(3).toPandas()"
   ]
  },
  {
   "cell_type": "code",
   "execution_count": 14,
   "id": "806551ca",
   "metadata": {},
   "outputs": [
    {
     "name": "stderr",
     "output_type": "stream",
     "text": [
      "                                                                                \r"
     ]
    }
   ],
   "source": [
    "# HTML response codes distribution\n",
    "df_hrcd = df.groupBy(\"code\").count()\n",
    "dfp_hrcd = df_hrcd.toPandas()"
   ]
  },
  {
   "cell_type": "code",
   "execution_count": 15,
   "id": "c3cd4c28",
   "metadata": {},
   "outputs": [
    {
     "name": "stderr",
     "output_type": "stream",
     "text": [
      "                                                                                \r"
     ]
    }
   ],
   "source": [
    "# HTML response codes distribution over time\n",
    "df_hrcdt = df.groupBy([window(df[\"timestamp\"],\"5 minute\"),\"code\"]).count()\n",
    "df_hrcdt = df_hrcdt.withColumn(\"sttime\", df_hrcdt.window.start).drop(\"window\").select(\"sttime\",\"code\",\"count\")\n",
    "dfp_hrcdt = df_hrcdt.toPandas()"
   ]
  },
  {
   "cell_type": "code",
   "execution_count": 16,
   "id": "3f06a720",
   "metadata": {},
   "outputs": [
    {
     "name": "stderr",
     "output_type": "stream",
     "text": [
      "                                                                                \r"
     ]
    }
   ],
   "source": [
    "# Requests histogram\n",
    "df_rh = df_btod.sort(\"sttime\")\n",
    "dfp_rh = df_rh.toPandas()"
   ]
  },
  {
   "cell_type": "code",
   "execution_count": 17,
   "id": "c304b019",
   "metadata": {},
   "outputs": [
    {
     "name": "stderr",
     "output_type": "stream",
     "text": [
      "                                                                                \r"
     ]
    }
   ],
   "source": [
    "# Request size histogram\n",
    "df_rsh = df_btods.sort(\"sttime\")\n",
    "dfp_rsh = df_rsh.toPandas()"
   ]
  },
  {
   "cell_type": "code",
   "execution_count": 18,
   "id": "634b0510",
   "metadata": {},
   "outputs": [
    {
     "name": "stderr",
     "output_type": "stream",
     "text": [
      "                                                                                \r"
     ]
    }
   ],
   "source": [
    "# Index page requests histogram\n",
    "df_irh = df.where(df.idx==True).groupBy(window(df[\"timestamp\"],\"5 minute\")).count()\n",
    "df_irh = df_irh.withColumn(\"sttime\", df_irh.window.start).drop(\"window\").select(\"sttime\",\"count\")\n",
    "df_irh = df_irh.sort(\"sttime\")\n",
    "dfp_irh = df_irh.toPandas()"
   ]
  },
  {
   "cell_type": "code",
   "execution_count": 19,
   "id": "aa8c729a",
   "metadata": {},
   "outputs": [
    {
     "name": "stderr",
     "output_type": "stream",
     "text": [
      "[Stage 53:====================================================>   (13 + 1) / 14]\r"
     ]
    },
    {
     "name": "stdout",
     "output_type": "stream",
     "text": [
      "+--------------------+-----+\n",
      "|             webpage|count|\n",
      "+--------------------+-----+\n",
      "|1565979/000000000...|98154|\n",
      "|1067983/000120919...|18123|\n",
      "|1078511/000120919...|16363|\n",
      "|312069/9999999997...|14798|\n",
      "|1590750/999999999...| 5401|\n",
      "|1524025/000119312...| 5123|\n",
      "|1310067/000119312...| 5083|\n",
      "|1512499/000089706...| 5012|\n",
      "|1305773/000130577...| 5001|\n",
      "|1548777/000119312...| 4931|\n",
      "+--------------------+-----+\n",
      "only showing top 10 rows\n",
      "\n"
     ]
    },
    {
     "name": "stderr",
     "output_type": "stream",
     "text": [
      "\r",
      "[Stage 55:=============================>                            (1 + 1) / 2]\r",
      "\r",
      "                                                                                \r"
     ]
    }
   ],
   "source": [
    "# Most frequently requested index page\n",
    "df_mfir = df.where(df.idx==True).groupBy(\"webpage\").count()\n",
    "df_mfir = df_mfir.sort(\"count\",ascending=False)\n",
    "df_mfir.show(10)"
   ]
  },
  {
   "cell_type": "code",
   "execution_count": 20,
   "id": "015bc80c",
   "metadata": {},
   "outputs": [
    {
     "name": "stderr",
     "output_type": "stream",
     "text": [
      "                                                                                \r"
     ]
    }
   ],
   "source": [
    "# Crawler request histogram\n",
    "df_crh = df.where(df.crawler==True).groupBy(window(df[\"timestamp\"],\"5 minute\")).count()\n",
    "df_crh = df_crh.withColumn(\"sttime\", df_crh.window.start).drop(\"window\").select(\"sttime\",\"count\")\n",
    "df_crh = df_crh.sort(\"sttime\")\n",
    "dfp_crh = df_crh.toPandas()"
   ]
  },
  {
   "cell_type": "code",
   "execution_count": 21,
   "id": "f0c32df9",
   "metadata": {},
   "outputs": [
    {
     "name": "stderr",
     "output_type": "stream",
     "text": [
      "                                                                                \r"
     ]
    }
   ],
   "source": [
    "# Crawler request size in comparison to others\n",
    "df_crsc = df.groupBy(\"crawler\").agg({\"size\":\"sum\"}).withColumnRenamed(\"sum(size)\",\"size\")\n",
    "dfp_crsc = df_crsc.toPandas()"
   ]
  },
  {
   "cell_type": "code",
   "execution_count": 22,
   "id": "5c6d8bdc",
   "metadata": {},
   "outputs": [
    {
     "name": "stderr",
     "output_type": "stream",
     "text": [
      "                                                                                \r"
     ]
    }
   ],
   "source": [
    "# Requests by source\n",
    "df_rs = df.groupBy(\"find\").agg({\"find\":\"count\"}).withColumnRenamed(\"count(find)\",\"count\")\n",
    "df_rs = df_rs.sort(\"find\")\n",
    "dfp_rs = df_rs.toPandas()"
   ]
  },
  {
   "cell_type": "code",
   "execution_count": 42,
   "id": "05f09940",
   "metadata": {},
   "outputs": [
    {
     "name": "stderr",
     "output_type": "stream",
     "text": [
      "                                                                                \r"
     ]
    }
   ],
   "source": [
    "# Sources by time\n",
    "df_st = df.groupBy([window(df[\"timestamp\"],\"5 minute\"),\"find\"]).count()\n",
    "df_st = df_st.withColumn(\"sttime\", df_st.window.start).drop(\"window\").select(\"sttime\",\"find\",\"count\").sort([\"sttime\",\"find\",\"count\"])\n",
    "dfp_st = df_st.toPandas()"
   ]
  },
  {
   "cell_type": "code",
   "execution_count": 24,
   "id": "5510a7bf",
   "metadata": {},
   "outputs": [
    {
     "name": "stderr",
     "output_type": "stream",
     "text": [
      "[Stage 78:====================================================>   (13 + 1) / 14]\r"
     ]
    },
    {
     "name": "stdout",
     "output_type": "stream",
     "text": [
      "+---------------+-------+\n",
      "|             ip|  count|\n",
      "+---------------+-------+\n",
      "|   24.61.85.aef|2061037|\n",
      "|  54.152.17.ccg| 948106|\n",
      "| 68.180.231.abf| 409767|\n",
      "|  52.45.218.ihf| 343890|\n",
      "|  108.91.91.hbc| 303159|\n",
      "| 64.140.243.cgg| 296288|\n",
      "|  117.89.50.ihd| 280503|\n",
      "| 161.253.85.gch| 255056|\n",
      "|  128.250.0.eda| 231266|\n",
      "|217.174.255.dgd| 200537|\n",
      "+---------------+-------+\n",
      "\n"
     ]
    },
    {
     "name": "stderr",
     "output_type": "stream",
     "text": [
      "\r",
      "                                                                                \r"
     ]
    }
   ],
   "source": [
    "# Most Requests by IP Address\n",
    "df_rip = df.groupBy(\"ip\").count()\n",
    "df_rip = df_rip.sort(\"count\",ascending=False).limit(10)\n",
    "dfp_rip = df_rip.limit(3).toPandas()"
   ]
  },
  {
   "cell_type": "code",
   "execution_count": 52,
   "id": "2af892eb",
   "metadata": {},
   "outputs": [
    {
     "name": "stderr",
     "output_type": "stream",
     "text": [
      "                                                                                \r"
     ]
    },
    {
     "data": {
      "text/plain": [
       "'               ip          size\\n0   163.117.2.gai  126336833930\\n1  141.24.186.haa  122514343800\\n2  128.103.40.bah   85604387541'"
      ]
     },
     "execution_count": 52,
     "metadata": {},
     "output_type": "execute_result"
    }
   ],
   "source": [
    "# Largest requests by IP address\n",
    "df_lrip = df.groupBy(\"ip\").agg({\"size\":\"sum\"}).withColumnRenamed(\"sum(size)\",\"size\")\n",
    "df_lrip = df_lrip.sort(\"size\",ascending=False)\n",
    "dfp_lrip = df_lrip.limit(3).toPandas()"
   ]
  },
  {
   "cell_type": "code",
   "execution_count": 26,
   "id": "72d72649",
   "metadata": {},
   "outputs": [
    {
     "name": "stderr",
     "output_type": "stream",
     "text": [
      "[Stage 84:====================================================>   (13 + 1) / 14]\r"
     ]
    },
    {
     "name": "stdout",
     "output_type": "stream",
     "text": [
      "+----------+------+\n",
      "|       cik| count|\n",
      "+----------+------+\n",
      "|   1584509|214825|\n",
      "|   1429496|196811|\n",
      "|2147483647|147564|\n",
      "|     95521|133394|\n",
      "|    799288|115758|\n",
      "|   1565979| 98158|\n",
      "|   1166388| 95571|\n",
      "|    906304| 86925|\n",
      "|     19617| 70361|\n",
      "|    935703| 58657|\n",
      "+----------+------+\n",
      "only showing top 10 rows\n",
      "\n"
     ]
    },
    {
     "name": "stderr",
     "output_type": "stream",
     "text": [
      "\r",
      "                                                                                \r"
     ]
    }
   ],
   "source": [
    "# Most popular CIKs\n",
    "df_mpcik = df.groupBy(\"cik\").count()\n",
    "df_mpcik = df_mpcik.sort(\"count\",ascending=False)\n",
    "dfp_mpcik = df_mpcik.limit(3).toPandas()"
   ]
  },
  {
   "cell_type": "code",
   "execution_count": 27,
   "id": "48e94b08",
   "metadata": {},
   "outputs": [
    {
     "name": "stderr",
     "output_type": "stream",
     "text": [
      "[Stage 87:====================================================>   (13 + 1) / 14]\r"
     ]
    },
    {
     "name": "stdout",
     "output_type": "stream",
     "text": [
      "+-------+-----------+\n",
      "|    cik|       size|\n",
      "+-------+-----------+\n",
      "|1409970|20849222246|\n",
      "|1331971|20645887549|\n",
      "|1129987|14906707236|\n",
      "| 933691|13906101611|\n",
      "|1584509| 8503688654|\n",
      "|1429496| 6850463109|\n",
      "| 810893| 6154934896|\n",
      "|   4904| 4700967317|\n",
      "| 831001| 4322647271|\n",
      "|1382911| 4288847321|\n",
      "+-------+-----------+\n",
      "only showing top 10 rows\n",
      "\n"
     ]
    },
    {
     "name": "stderr",
     "output_type": "stream",
     "text": [
      "\r",
      "                                                                                \r"
     ]
    }
   ],
   "source": [
    "# Largest CIK requests\n",
    "df_lcik = df.groupBy(\"cik\").agg({\"size\":\"sum\"}).withColumnRenamed(\"sum(size)\",\"size\")\n",
    "df_lcik = df_lcik.sort(\"size\",ascending=False)\n",
    "dfp_lcik = df_lcik.limit(3).toPandas()"
   ]
  },
  {
   "cell_type": "code",
   "execution_count": 82,
   "id": "86d7f880",
   "metadata": {},
   "outputs": [],
   "source": [
    "dl = {\"Attribute\": [\"IP Address\",\"\",\"\",\"Central Index Key (CIK)\",\"\",\"\",\"Webpage\",\"\",\"\",\"Time of day\",\"\",\"\",],\n",
    "      \"\":[1,2,3,1,2,3,1,2,3,1,2,3],\n",
    "      \"Most Requests\":[dfp_rip[\"ip\"][0]+str(dfp_rip[\"count\"][0]),dfp_rip[\"ip\"][1]+str(dfp_rip[\"count\"][1]),dfp_rip[\"ip\"][2]+str(dfp_rip[\"count\"][2]),\n",
    "                       dfp_mpcik[\"cik\"][0]+str(dfp_mpcik[\"count\"][0]),dfp_mpcik[\"cik\"][1]+str(dfp_mpcik[\"count\"][1]),dfp_mpcik[\"cik\"][2]+str(dfp_mpcik[\"count\"][2]),\n",
    "                       dfp_maw[\"webpage\"][0]+str(dfp_maw[\"count\"][0]),dfp_maw[\"webpage\"][1]+str(dfp_maw[\"count\"][1]),dfp_maw[\"webpage\"][2]+str(dfp_maw[\"count\"][2]),\n",
    "                       dfp_btod[\"sttime\"][0]+str(dfp_btod[\"requests\"][0]),dfp_btod[\"sttime\"][1]+str(dfp_btod[\"requests\"][1]),dfp_btod[\"sttime\"][2]+str(dfp_btod[\"requests\"][2])],\n",
    "      \"Largest Requests\":[dfp_lrip[\"ip\"][0]+str(dfp_lrip[\"size\"][0]),dfp_lrip[\"ip\"][1]+str(dfp_lrip[\"size\"][1]),dfp_lrip[\"ip\"][2]+str(dfp_lrip[\"size\"][2]),\n",
    "                           dfp_lcik[\"cik\"][0]+str(dfp_lcik[\"size\"][0]),dfp_lcik[\"cik\"][1]+str(dfp_lcik[\"size\"][1]),dfp_lcik[\"cik\"][2]+str(dfp_lcik[\"size\"][2]),\n",
    "                           dfp_lda[\"webpage\"][0]+str(dfp_lda[\"size\"][0]),dfp_lda[\"webpage\"][1]+str(dfp_lda[\"size\"][1]),dfp_lda[\"webpage\"][2]+str(dfp_lda[\"size\"][2]),\n",
    "                           dfp_btods[\"sttime\"][0]+str(dfp_btods[\"size\"][0]),dfp_btods[\"sttime\"][1]+str(dfp_btods[\"size\"][1]),dfp_btods[\"sttime\"][2]+str(dfp_btods[\"size\"][2])]}\n",
    "dfp_daily = pd.DataFrame(dl)"
   ]
  },
  {
   "cell_type": "code",
   "execution_count": 83,
   "id": "fca79edb",
   "metadata": {},
   "outputs": [],
   "source": [
    "# Create dashboard\n",
    "# Initialize the app\n",
    "app = Dash()\n",
    "\n",
    "# App layout\n",
    "#app.layout = [\n",
    "#    html.Div(children='My First App with Data'),\n",
    "#    dash_table.DataTable(data=df.to_dict('records'), page_size=10),\n",
    "#    dcc.Graph(figure=px.pie(df,\"ip\",\"size\"))\n",
    "#]\n",
    "app.layout = html.Div([\n",
    "    dcc.Tabs(id=\"tabs\", value='daily', children=[\n",
    "        dcc.Tab(label='Dashboard', value='daily')\n",
    "    ]),\n",
    "    html.Div(id='tab-content')\n",
    "])\n",
    "\n",
    "@app.callback(Output('tab-content', 'children'),\n",
    "              Input('tabs', 'value'))\n",
    "def render_content(tab):\n",
    "        return html.Div([\n",
    "            html.H3('Server log analyses'),\n",
    "            html.Div([\n",
    "                dcc.Graph(figure=px.pie(dfp_mrft, names='filetype', values='count', title='Filetype request'))\n",
    "            ], style={'width': '48%', 'display': 'inline-block', 'border':'1px solid black', 'margin': '2px'}),\n",
    "            html.Div([\n",
    "                dcc.Graph(figure=px.pie(dfp_hrcd, names='code', values='count', title='HTML Response code'))\n",
    "            ], style={'width': '48%', 'display': 'inline-block', 'border':'1px solid black', 'margin': '2px'}),\n",
    "            html.Div([\n",
    "                dcc.Graph(figure=px.pie(dfp_crsc, names='crawler', values='size', title='Crawler traffic share'))\n",
    "            ], style={'width': '48%', 'display': 'inline-block', 'border':'1px solid black', 'margin': '2px'}),\n",
    "            html.Div([\n",
    "                dcc.Graph(figure=px.pie(dfp_rs, names='find', values='count', title='Request sources'))\n",
    "            ], style={'width': '48%', 'display': 'inline-block', 'border':'1px solid black', 'margin': '2px'}),\n",
    "            html.Div([\n",
    "                dcc.Graph(figure=px.bar(dfp_rh, x='sttime', y='requests', title='Requests by time of day'))\n",
    "            ], style={'width': '48%', 'display': 'inline-block', 'border':'1px solid black', 'margin': '2px'}),\n",
    "            html.Div([\n",
    "                dcc.Graph(figure=px.bar(dfp_rsh, x='sttime', y='size', title='Request size by time of day'))\n",
    "            ], style={'width': '48%', 'display': 'inline-block', 'border':'1px solid black', 'margin': '2px'}),\n",
    "            html.Div([\n",
    "                dcc.Graph(figure=px.bar(dfp_irh, x='sttime', y='count',  title='Index page requests by time of day'))\n",
    "            ], style={'width': '48%', 'display': 'inline-block', 'border':'1px solid black', 'margin': '2px'}),\n",
    "            html.Div([\n",
    "                dcc.Graph(figure=px.bar(dfp_crh, x='sttime', y='count', title='Crawler requests by time of day'))\n",
    "            ], style={'width': '48%', 'display': 'inline-block', 'border':'1px solid black', 'margin': '2px'}),\n",
    "            html.Div([\n",
    "                dcc.Graph(figure=px.line(dfp_st, x='sttime', y='count', color='find', title='Request source by time of day'))\n",
    "            ], style={'width': '48%', 'display': 'inline-block','border':'1px solid black', 'margin': '2px'}),\n",
    "            html.Div([\n",
    "                dcc.Graph(figure=px.bar(dfp_hrcdt, x='sttime', y='count', color='code', title='HTML Response codes by time of day'))\n",
    "            ], style={'width': '48%', 'display': 'inline-block', 'border':'1px solid black', 'margin': '2px'}),\n",
    "            html.Div([\n",
    "                dash_table.DataTable(\n",
    "                    data=dfp_daily.to_dict('records'), page_size=14\n",
    "                )\n",
    "            ])\n",
    "        ])\n",
    "\n",
    "\n",
    "#app.run(jupyter_mode=\"external\", port=8050)"
   ]
  },
  {
   "cell_type": "code",
   "execution_count": 84,
   "id": "9c8cab3d",
   "metadata": {},
   "outputs": [
    {
     "name": "stdout",
     "output_type": "stream",
     "text": [
      "Dash app running on http://127.0.0.1:8050/\n"
     ]
    }
   ],
   "source": [
    "app.run(jupyter_mode=\"external\", port=8050)"
   ]
  },
  {
   "cell_type": "code",
   "execution_count": null,
   "id": "40556ca6",
   "metadata": {},
   "outputs": [],
   "source": []
  }
 ],
 "metadata": {
  "kernelspec": {
   "display_name": "Python 3 (ipykernel)",
   "language": "python",
   "name": "python3"
  },
  "language_info": {
   "codemirror_mode": {
    "name": "ipython",
    "version": 3
   },
   "file_extension": ".py",
   "mimetype": "text/x-python",
   "name": "python",
   "nbconvert_exporter": "python",
   "pygments_lexer": "ipython3",
   "version": "3.11.8"
  }
 },
 "nbformat": 4,
 "nbformat_minor": 5
}
